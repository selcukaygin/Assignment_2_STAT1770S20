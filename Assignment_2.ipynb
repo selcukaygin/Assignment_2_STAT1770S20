{
 "cells": [
  {
   "cell_type": "markdown",
   "metadata": {
    "editable": false
   },
   "source": [
    "# Part 1: Variable Types and Graphical Representation of Numerical Data#\n"
   ]
  },
  {
   "cell_type": "markdown",
   "metadata": {
    "editable": false
   },
   "source": [
    "## Objectives: ##\n",
    "To practice:\n",
    "* Identifying types of variables as being discrete numerical, continuous numerical,  or categorical.\n",
    "* Creating and interpretting graphical representations of numerical data. In particular:\n",
    "  * Creating a scatter plot\n",
    "  * Creating a histogram\n",
    "  * Creating a boxplot"
   ]
  },
  {
   "cell_type": "markdown",
   "metadata": {
    "editable": false
   },
   "source": [
    "## Instructions: ##\n",
    "* 1. Run the data loading function found in the tools section.\n",
    "* 2. Read the information at the beginning of each question carefully.\n",
    "* 3. Answer each part of each question by writing code in the code cell, or a sentence in a markdown cell as is appropriate."
   ]
  },
  {
   "cell_type": "markdown",
   "metadata": {
    "editable": false
   },
   "source": [
    "## Formulae: ##\n",
    "No formlae are required for this part."
   ]
  },
  {
   "cell_type": "markdown",
   "metadata": {
    "editable": false
   },
   "source": [
    "## Tools: ##"
   ]
  },
  {
   "cell_type": "code",
   "execution_count": 7,
   "metadata": {
    "editable": false
   },
   "outputs": [],
   "source": [
    "census <- read.csv(\"census150.csv\",header=TRUE)"
   ]
  },
  {
   "cell_type": "markdown",
   "metadata": {
    "editable": false
   },
   "source": [
    "## Data Information: ##\n",
    "\n",
    "### Data Set: ###\n",
    "A small random sample of observations from the 2000 U.S. Census Data.\n",
    "#### Name: #### \n",
    "* `census` - observations from the 2000 U.S. Census Data.\n",
    "\n",
    "#### Variables: ####\n",
    "* `census_year` - Census Year.\n",
    "* `state_fips_code` - Name of state.\n",
    "* `total_family_income` - Total family income (in U.S. dollars).\n",
    "* `age` - Age.\n",
    "* `sex` - Sex with levels: Female and Male.\n",
    "* `race_general` - Race with levels: American Indian or Alaska Native, Black, Chinese, Japanese, Other Asian or Pacific Islander, Two major races, White and Other.\n",
    "* `marital_status` - Marital status with levels Divorced, Married/spouse absent, Married/spouse present, Never married/single, Separated and Widowed.\n",
    "* `total_personal_income` - Total personal income (in U.S. dollars).\n",
    "* `percent_family_income` - the percent of the family income earned by the participant, calculated by dividing the personal income by the family income (unless the family income is 0, then the value of this variable is set to 0) given as a percentage.\n"
   ]
  },
  {
   "cell_type": "markdown",
   "metadata": {
    "editable": false
   },
   "source": [
    "## Question 1. Examine the variables ##"
   ]
  },
  {
   "cell_type": "markdown",
   "metadata": {
    "editable": false
   },
   "source": [
    " For each of the following variables indicate whether it is a discrete numerical, continuous numerical, or categorical variable. <br>Briefly explain how you know.\n",
    "* a. state_fips_code\n",
    "* b. total_family_income\n",
    "* c. age\n",
    "* d. percent_family_income"
   ]
  },
  {
   "cell_type": "markdown",
   "metadata": {
    "editable": false
   },
   "source": [
    "### Answer 1a. ###"
   ]
  },
  {
   "cell_type": "markdown",
   "metadata": {},
   "source": [
    "Type a sentence to answer the question in this cell."
   ]
  },
  {
   "cell_type": "markdown",
   "metadata": {
    "editable": false
   },
   "source": [
    "### Answer 1b. ###"
   ]
  },
  {
   "cell_type": "markdown",
   "metadata": {},
   "source": [
    "Type a sentence to answer the question in this cell."
   ]
  },
  {
   "cell_type": "markdown",
   "metadata": {
    "editable": false
   },
   "source": [
    "### Answer 1c. ###"
   ]
  },
  {
   "cell_type": "markdown",
   "metadata": {},
   "source": [
    "Type a sentence to answer the question in this cell."
   ]
  },
  {
   "cell_type": "markdown",
   "metadata": {
    "editable": false
   },
   "source": [
    "### Answer 1d"
   ]
  },
  {
   "cell_type": "markdown",
   "metadata": {},
   "source": [
    "Type a sentence to answer the question in this cell."
   ]
  },
  {
   "cell_type": "markdown",
   "metadata": {
    "editable": false
   },
   "source": [
    "## Question 2. Create and interpret a scatter plot ##"
   ]
  },
  {
   "cell_type": "markdown",
   "metadata": {
    "editable": false
   },
   "source": [
    "Recall we use the `plot` command with two numerical variables to create a scatterplot.\n",
    "* a. Create a titled and labelled scatterplot for `age` and `percent_family_income`. Put age on the $x$-axis.\n",
    "* b. There is one point on the plot that stands out from the rest. Why does it stand out? If you were the researcher, what would you do about this particular value?\n",
    "* c. Describe the relationship between `age` and `percent_family_income` or explain why you do not think there is a relationship."
   ]
  },
  {
   "cell_type": "markdown",
   "metadata": {
    "editable": false
   },
   "source": [
    "### Answer 2a. ###"
   ]
  },
  {
   "cell_type": "code",
   "execution_count": null,
   "metadata": {},
   "outputs": [],
   "source": [
    "Enter R code in this cell to create the required graphical representation of data."
   ]
  },
  {
   "cell_type": "markdown",
   "metadata": {
    "editable": false
   },
   "source": [
    "### Answer 2b."
   ]
  },
  {
   "cell_type": "markdown",
   "metadata": {},
   "source": [
    "Type a sentence or two to answer the question in this cell."
   ]
  },
  {
   "cell_type": "markdown",
   "metadata": {
    "editable": false
   },
   "source": [
    "### Answer 2c. ###"
   ]
  },
  {
   "cell_type": "markdown",
   "metadata": {},
   "source": [
    "Type a sentence or two to answer the question in this cell."
   ]
  },
  {
   "cell_type": "markdown",
   "metadata": {
    "editable": false
   },
   "source": [
    "## Question 3. Create and interpret a histogram ##"
   ]
  },
  {
   "cell_type": "markdown",
   "metadata": {},
   "source": [
    "The histogram command has the format `hist(` &lt;variable&gt; `,` &lt;options -see below&gt; `)`<br>\n",
    "Options appear in a comma delimited list:<br>\n",
    "`breaks = n` - where n is the number of bins (or number of bars/columns)<br>\n",
    "`main = \"title\"` - where title is the title for the histogram.\n",
    "* a. Create a titled histogram for the personal income of participants. Do NOT sent the number of breaks.\n",
    "* b. Create a titled histogram for the personal income of participants. Use fewer breaks than the histogram created for part a.\n",
    "* c. Create a titled histogram for the personal income of participants. Use more breaks than the histogram created for part a.\n",
    "* d. Which of the histograms best depicts the data. Why did you choose that histogram?\n",
    "* e. Describe the histogram you chose in part d. Is it skewed left, symmetric, or skewed right? Is it unimodal, bimodal, or multimodal?"
   ]
  },
  {
   "cell_type": "markdown",
   "metadata": {
    "editable": false
   },
   "source": [
    "### Answer 3a."
   ]
  },
  {
   "cell_type": "code",
   "execution_count": null,
   "metadata": {},
   "outputs": [],
   "source": [
    "Enter R code in this cell to create the required graphical representation of data."
   ]
  },
  {
   "cell_type": "markdown",
   "metadata": {
    "editable": false
   },
   "source": [
    "### Answer 3b."
   ]
  },
  {
   "cell_type": "code",
   "execution_count": null,
   "metadata": {},
   "outputs": [],
   "source": [
    "Enter R code in this cell to create the required graphical representation of data."
   ]
  },
  {
   "cell_type": "markdown",
   "metadata": {
    "editable": false
   },
   "source": [
    "### Answer 3c."
   ]
  },
  {
   "cell_type": "code",
   "execution_count": null,
   "metadata": {},
   "outputs": [],
   "source": [
    "Enter R code in this cell to create the required graphical representation of data."
   ]
  },
  {
   "cell_type": "markdown",
   "metadata": {
    "editable": false
   },
   "source": [
    "### Answer 3d."
   ]
  },
  {
   "cell_type": "markdown",
   "metadata": {},
   "source": [
    "Type a sentence to answer the question in this cell."
   ]
  },
  {
   "cell_type": "markdown",
   "metadata": {
    "editable": false
   },
   "source": [
    "### Answer 3e."
   ]
  },
  {
   "cell_type": "markdown",
   "metadata": {},
   "source": [
    "Type a sentence to answer the question in this cell."
   ]
  },
  {
   "cell_type": "markdown",
   "metadata": {
    "editable": false
   },
   "source": [
    "## Question 4. Create a boxplot"
   ]
  },
  {
   "cell_type": "markdown",
   "metadata": {
    "editable": false
   },
   "source": [
    "The boxplot command has the format `boxplot(` &lt;variable&gt; `)` or `boxplot(` &ltvariable&gt; `~` &ltvariable&gt; `)`<br>\n",
    "The first form will create one boxplot and the second will create side-by-side boxplots, one for each value of the second variable.\n",
    "* a. Create a boxplot for the personal income.\n",
    "* b. Based on the boxplot created for part a, what can you say about the values over $100,000.\n",
    "* c. Create side by side boxplots for the personal income of male and female respondents.\n",
    "* d. Based on the side by side boxplots created for part b, what can you say about the relationship between gender and personal income. <br>Use values depicted by the boxplot to support your conclusion. "
   ]
  },
  {
   "cell_type": "markdown",
   "metadata": {
    "editable": false
   },
   "source": [
    "### Answer 4a."
   ]
  },
  {
   "cell_type": "code",
   "execution_count": null,
   "metadata": {},
   "outputs": [],
   "source": [
    "Enter R code in this cell to create the required graphical representation of data."
   ]
  },
  {
   "cell_type": "markdown",
   "metadata": {
    "editable": false
   },
   "source": [
    "### Answer 4b."
   ]
  },
  {
   "cell_type": "markdown",
   "metadata": {},
   "source": [
    "Type a sentence to answer the question in this cell."
   ]
  },
  {
   "cell_type": "markdown",
   "metadata": {
    "editable": false
   },
   "source": [
    "### Answer 4c."
   ]
  },
  {
   "cell_type": "code",
   "execution_count": null,
   "metadata": {},
   "outputs": [],
   "source": [
    "Enter R code in this cell to create the required graphical representation of data."
   ]
  },
  {
   "cell_type": "markdown",
   "metadata": {
    "editable": false
   },
   "source": [
    "## Answer 4d."
   ]
  },
  {
   "cell_type": "markdown",
   "metadata": {},
   "source": [
    "Type a short paragraph to answer the question in this cell."
   ]
  },
  {
   "cell_type": "markdown",
   "metadata": {
    "editable": false
   },
   "source": [
    "# Part 2: Exploring Categorical Data #"
   ]
  },
  {
   "cell_type": "markdown",
   "metadata": {
    "editable": false
   },
   "source": [
    "## Objectives: ##\n",
    "To become familiar with the tools used to display categorical data\n",
    "* contigency tables\n",
    "* relative frequency tables\n",
    "* mosaic plots\n",
    "* bar plots"
   ]
  },
  {
   "cell_type": "markdown",
   "metadata": {
    "editable": false
   },
   "source": [
    "## Instructions: ##\n",
    "* 1. Run the command under the tools heading to download the data\n",
    "* 2. Read each question carefully\n",
    "* 3. Answer the questions. \n",
    "\n",
    "Remember: You can look up new commands in the *R commands we know ... so far* document on moodle."
   ]
  },
  {
   "cell_type": "markdown",
   "metadata": {
    "editable": false
   },
   "source": [
    "## Formulae: ##\n",
    "No formlae are required for this assignment."
   ]
  },
  {
   "cell_type": "markdown",
   "metadata": {
    "editable": false
   },
   "source": [
    "## Tools: ##"
   ]
  },
  {
   "cell_type": "code",
   "execution_count": null,
   "metadata": {},
   "outputs": [],
   "source": [
    "cdc <- read.csv(\"cdc200.csv\", header=TRUE)"
   ]
  },
  {
   "cell_type": "markdown",
   "metadata": {
    "editable": false
   },
   "source": [
    "## Data Information: ##\n",
    "\n",
    "### Data Set 1: ###\n",
    "Today we will be using data from the CDC.  \n",
    "\n",
    "The Behavioral Risk Factor Surveillance System (BRFSS) is an annual telephone survey of 350,000 people in the United States. As its name implies, the BRFSS is designed to identify risk factors in the adult population and report emerging health trends. For example, respondents are asked about their diet and weekly physical activity, their HIV/AIDS status, possible tobacco use, and even their level of healthcare coverage. The BRFSS Web site (http://www.cdc.gov/brfss) contains a complete description of the survey, including the research questions that motivate the study and many interesting results derived from the data.\n",
    "\n",
    "While there are over **200** variables in this data set, we will work with a small subset.\n",
    "#### Name: #### \n",
    "* `cdc200` - health data from the sample of the BRFSS survey from 2000.\n",
    "\n",
    "#### Variables: ####\n",
    "* `genhlth` - respondents were asked to evaluate their general health, responding either excellent, very good, good, fair or poor\n",
    "* `exerany` - whether the respondent exercised in the past month (recent) or did not (not_recent).\n",
    "* `hlthplan` - whether the respondent had some form of health coverage (insured) or did not (uninsured).\n",
    "* `smoke100` - whether the respondent had smoked at least 100 cigarettes in her lifetime (smoker) or has not (nonsmoker).\n",
    "* `height` - the respondent's height measured in inches.\n",
    "* `weight` - the respondent's weight measured in pounds.\n",
    "* `wtdesire` - the respondent's desired weight measured in pounds.\n",
    "* `age` - the respondent's age measured in years.\n",
    "* `gender` - whether the respondent said they were female or male."
   ]
  },
  {
   "cell_type": "markdown",
   "metadata": {
    "editable": false
   },
   "source": [
    "## Question 1. Making Tables ##\n"
   ]
  },
  {
   "cell_type": "markdown",
   "metadata": {
    "editable": false
   },
   "source": [
    "### We can make tables for two categorical variables in several ways ###\n",
    "* `table(` &lt;variable&gt; `,` &lt;variable&gt; `)` - creates a contingency table, each entry is the number of data points that have the indicated variable values\n",
    "* `prop.table(table(`  &lt;variable&gt; `,` &lt;variable&gt; `)` - creates a relative frequency table, each entry is the fraction of all the data that have the indicated variable values\n",
    "* `prop.table(table(`  &lt;variable&gt; `,` &lt;variable&gt; `,1)` - creates a relative frequency table split by the row variable, each entry is the fraction of the data in that row that has the variable value indicated by the column. Hence the sum of each row is 1.\n",
    "* `prop.table(table(`  &lt;variable&gt; `,` &lt;variable&gt; `,2)` - creates a relative frequency table split by the column variable, each entry is the fraction of the data in that column that has the variable value indicated by the row. Hence the sum of each column is 1.\n",
    "### Use the information above to answer these questions: ###\n",
    "* a. Create a contigency table for general health and exercise habits.<br>How many people say they are in good health and indicated that they have exercised recently?\n",
    "* b. Create a relative frequency table for general health and exercise habits.<br>What fraction of all people say they are in good health and indicated that they have exercised recently?\n",
    "* c. Create a relative frequency table for general health split by exercise habits.<br>What fraction of the good health people indicated that they exercised recently?\n",
    "* d. Create a relative frequency table for exercise habits split by general health.<br>What fraction of the recent exercisers say they are in good health?"
   ]
  },
  {
   "cell_type": "markdown",
   "metadata": {
    "editable": false
   },
   "source": [
    "### Answer 1a. ##"
   ]
  },
  {
   "cell_type": "code",
   "execution_count": null,
   "metadata": {},
   "outputs": [],
   "source": [
    "Enter code in this cell."
   ]
  },
  {
   "cell_type": "markdown",
   "metadata": {},
   "source": [
    "Write your answer in this cell, use a complete sentence."
   ]
  },
  {
   "cell_type": "markdown",
   "metadata": {
    "editable": false
   },
   "source": [
    "### Answer 1b. ##"
   ]
  },
  {
   "cell_type": "code",
   "execution_count": null,
   "metadata": {},
   "outputs": [],
   "source": [
    "Enter code in this cell."
   ]
  },
  {
   "cell_type": "markdown",
   "metadata": {},
   "source": [
    "Write your answer in this cell, use a complete sentence."
   ]
  },
  {
   "cell_type": "markdown",
   "metadata": {
    "editable": false
   },
   "source": [
    "### Answer 1c. ###"
   ]
  },
  {
   "cell_type": "code",
   "execution_count": null,
   "metadata": {},
   "outputs": [],
   "source": [
    "Enter code in this cell."
   ]
  },
  {
   "cell_type": "markdown",
   "metadata": {},
   "source": [
    "Write your answer in this cell, use a complete sentence."
   ]
  },
  {
   "cell_type": "markdown",
   "metadata": {
    "editable": false
   },
   "source": [
    "### Answer 1d. ##"
   ]
  },
  {
   "cell_type": "code",
   "execution_count": null,
   "metadata": {},
   "outputs": [],
   "source": [
    "Enter code in this cell."
   ]
  },
  {
   "cell_type": "markdown",
   "metadata": {},
   "source": [
    "Write your answer in this cell, use a complete sentence."
   ]
  },
  {
   "cell_type": "markdown",
   "metadata": {
    "editable": false
   },
   "source": [
    "## Question 2. Barplots ##"
   ]
  },
  {
   "cell_type": "markdown",
   "metadata": {
    "editable": false
   },
   "source": [
    "### We make barplots using tables: ###\n",
    "`barplot(` `table(`  &lt;variable&gt; `,` &lt;variable&gt;  `)` `,` &lt;options - see list below&gt;`)`<br>Options appear in a comma delimited list: \n",
    "* `legend=c(\"` first variable first value `\",\"` first variable second value`\"` ... `)` - to create a legend. \n",
    "* `names.arg=c(\"` second variable first value `\",\"` second variable second value `\"` ... `)` - to relabel the x axis labels if they are not desirable.\n",
    "* `beside = TRUE` - to place the bars side-by-side rather than having stacked bars.\n",
    "* `main = \"` title `\"` - to put a title above the barplot\n",
    "Note: the values of the bars will be in the same order as the values are listed in the table.\n",
    "\n",
    "Answer the following questions by creating and/or interpreting barplots\n",
    "* a. Make a titled stacked bar chart showing the frequency of of gender split by exercise habits. Change the labels on the *x*-axis to \"Female\" and \"Male\" and provide a legend.\n",
    "* b. Make a titled bar chart, with the bars side by side, of gender split by exercise habits. Change the labels on the *x*-axis to \"Female\" and \"Male\" and provide a legend.\n",
    "* c. Is there a relationship between gender and exercise habits? Briefly, explain how the barchart leads you to that conclusion."
   ]
  },
  {
   "cell_type": "markdown",
   "metadata": {
    "editable": false
   },
   "source": [
    "### Answer 2a. ###"
   ]
  },
  {
   "cell_type": "code",
   "execution_count": null,
   "metadata": {},
   "outputs": [],
   "source": [
    "Enter code in this cell."
   ]
  },
  {
   "cell_type": "markdown",
   "metadata": {
    "editable": false
   },
   "source": [
    "### Answer 2b. ###"
   ]
  },
  {
   "cell_type": "code",
   "execution_count": null,
   "metadata": {},
   "outputs": [],
   "source": [
    "Enter code in this cell."
   ]
  },
  {
   "cell_type": "markdown",
   "metadata": {
    "editable": false
   },
   "source": [
    "### Answer 2c. ###"
   ]
  },
  {
   "cell_type": "markdown",
   "metadata": {},
   "source": [
    "Write your answer in this cell, use complete sentences."
   ]
  },
  {
   "cell_type": "markdown",
   "metadata": {
    "editable": false
   },
   "source": [
    "## Question 3. Mosaic plots ##"
   ]
  },
  {
   "cell_type": "markdown",
   "metadata": {
    "editable": false
   },
   "source": [
    "We make mosaic plots using tables:\n",
    "`mosaicplot(` `table(` &lt;variable&gt; `,` &lt;variable&gt; `)` `,` &lt;options - see list below&gt; `)`<br>\n",
    "Options appear in a comma delimited list:\n",
    "* `main=\"` title `\"` - to create a title. \n",
    "* `xlab=\"` x label `\"` - to create a x-axis or horizontal label. \n",
    "* `ylab=\"` y label `\"` - to create a y-axis vertical label. \n",
    "* `color = TRUE` - to make rectangles from the different variables different shades of gray.\n",
    "\n",
    "Answer the following questions by creating and/or interpreting barplots\n",
    "* a. Make a titled mosaic chart of gender split by general health. Label both axis.\n",
    "* b. Make a titled mosaic chart of general health split by gender. Label both axis.\n",
    "* c. Run the code cell under Answer 3c. Which table displays the values that corresponds to the mosaic plots in parts 3a and 3b?<br>Briefly explain how you determined which chart and tables correspond."
   ]
  },
  {
   "cell_type": "markdown",
   "metadata": {
    "editable": false
   },
   "source": [
    "### Answer 3a. ###"
   ]
  },
  {
   "cell_type": "code",
   "execution_count": null,
   "metadata": {},
   "outputs": [],
   "source": [
    "Enter code in this cell."
   ]
  },
  {
   "cell_type": "markdown",
   "metadata": {
    "editable": false
   },
   "source": [
    "### Answer 3b. ###"
   ]
  },
  {
   "cell_type": "code",
   "execution_count": null,
   "metadata": {},
   "outputs": [],
   "source": [
    "Enter code in this cell."
   ]
  },
  {
   "cell_type": "markdown",
   "metadata": {
    "editable": false
   },
   "source": [
    "### Answer 3c. ###"
   ]
  },
  {
   "cell_type": "code",
   "execution_count": null,
   "metadata": {},
   "outputs": [],
   "source": [
    "table1 <- prop.table(table(cdc$genhlth,cdc$gender))\n",
    "table2 <- prop.table(table(cdc$genhlth,cdc$gender),1)\n",
    "table3 <- prop.table(table(cdc$genhlth,cdc$gender),2)\n",
    "table1\n",
    "table2\n",
    "table3"
   ]
  },
  {
   "cell_type": "markdown",
   "metadata": {},
   "source": [
    "Write your answer in this cell, use complete sentences."
   ]
  },
  {
   "cell_type": "markdown",
   "metadata": {
    "editable": false
   },
   "source": [
    "---\n",
    "---\n",
    "#### This tutorial is released under a Creative Commons Attribution-ShareAlike 3.0 Unported.\n",
    "\n",
    "This tutorial has been adapted from a lab that  was adapted for OpenIntro by Andrew Bray and Mine Çetinkaya-Rundel from a lab written by Mark Hansen of UCLA Statistics.\n",
    "\n",
    "---\n",
    "---"
   ]
  }
 ],
 "metadata": {
  "celltoolbar": "Edit Metadata",
  "kernelspec": {
   "display_name": "R",
   "language": "R",
   "name": "ir"
  },
  "language_info": {
   "codemirror_mode": "r",
   "file_extension": ".r",
   "mimetype": "text/x-r-source",
   "name": "R",
   "pygments_lexer": "r",
   "version": "3.6.1"
  }
 },
 "nbformat": 4,
 "nbformat_minor": 2
}
